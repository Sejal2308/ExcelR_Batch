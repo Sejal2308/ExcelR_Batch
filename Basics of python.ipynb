{
 "cells": [
  {
   "cell_type": "code",
   "execution_count": 1,
   "id": "4ab0189c",
   "metadata": {},
   "outputs": [
    {
     "data": {
      "text/plain": [
       "58"
      ]
     },
     "execution_count": 1,
     "metadata": {},
     "output_type": "execute_result"
    }
   ],
   "source": [
    "#Variable\n",
    "3+55"
   ]
  },
  {
   "cell_type": "code",
   "execution_count": 2,
   "id": "678d75cc",
   "metadata": {},
   "outputs": [],
   "source": [
    "a=3+55"
   ]
  },
  {
   "cell_type": "code",
   "execution_count": 3,
   "id": "65135191",
   "metadata": {},
   "outputs": [
    {
     "data": {
      "text/plain": [
       "58"
      ]
     },
     "execution_count": 3,
     "metadata": {},
     "output_type": "execute_result"
    }
   ],
   "source": [
    "a"
   ]
  },
  {
   "cell_type": "code",
   "execution_count": 4,
   "id": "56446189",
   "metadata": {},
   "outputs": [
    {
     "data": {
      "text/plain": [
       "2242925645968"
      ]
     },
     "execution_count": 4,
     "metadata": {},
     "output_type": "execute_result"
    }
   ],
   "source": [
    "id(a)"
   ]
  },
  {
   "cell_type": "code",
   "execution_count": 5,
   "id": "e2a61992",
   "metadata": {},
   "outputs": [],
   "source": [
    "_ten=10"
   ]
  },
  {
   "cell_type": "code",
   "execution_count": 6,
   "id": "fd898229",
   "metadata": {},
   "outputs": [
    {
     "data": {
      "text/plain": [
       "10"
      ]
     },
     "execution_count": 6,
     "metadata": {},
     "output_type": "execute_result"
    }
   ],
   "source": [
    "_ten"
   ]
  },
  {
   "cell_type": "code",
   "execution_count": 7,
   "id": "1ce15b4c",
   "metadata": {},
   "outputs": [
    {
     "ename": "NameError",
     "evalue": "name 'two' is not defined",
     "output_type": "error",
     "traceback": [
      "\u001b[1;31m---------------------------------------------------------------------------\u001b[0m",
      "\u001b[1;31mNameError\u001b[0m                                 Traceback (most recent call last)",
      "Input \u001b[1;32mIn [7]\u001b[0m, in \u001b[0;36m<cell line: 1>\u001b[1;34m()\u001b[0m\n\u001b[1;32m----> 1\u001b[0m two\u001b[38;5;241m@\u001b[39m\u001b[38;5;241m=\u001b[39m\u001b[38;5;241m20\u001b[39m\n",
      "\u001b[1;31mNameError\u001b[0m: name 'two' is not defined"
     ]
    }
   ],
   "source": [
    "two@=20 #it will give error bcz special char. is not allowed to define any data"
   ]
  },
  {
   "cell_type": "code",
   "execution_count": null,
   "id": "a5419f95",
   "metadata": {},
   "outputs": [],
   "source": [
    "#single line comment started from hash\n",
    "#Multi line comment written between two triple quats"
   ]
  },
  {
   "cell_type": "markdown",
   "id": "165c8bd2",
   "metadata": {},
   "source": [
    "# Operators in python "
   ]
  },
  {
   "cell_type": "code",
   "execution_count": null,
   "id": "51c8cf3b",
   "metadata": {},
   "outputs": [],
   "source": [
    "#Arithmetic operations "
   ]
  },
  {
   "cell_type": "code",
   "execution_count": 8,
   "id": "b3e3578c",
   "metadata": {},
   "outputs": [],
   "source": [
    "a=95\n",
    "b=85"
   ]
  },
  {
   "cell_type": "code",
   "execution_count": 9,
   "id": "bfd3ac27",
   "metadata": {},
   "outputs": [
    {
     "name": "stdout",
     "output_type": "stream",
     "text": [
      "180\n",
      "10\n",
      "8075\n",
      "1277928187479933990465848803692722277644443761426897197331399161341090629742373914335718769740772464925096920903948343454080579205400791664715143269859254360198974609375\n",
      "1.1176470588235294\n",
      "10\n"
     ]
    }
   ],
   "source": [
    "print(a+b)\n",
    "print(a-b)\n",
    "print(a*b)\n",
    "print(a**b)\n",
    "print(a/b)#division \n",
    "print(a%b)#reminder "
   ]
  },
  {
   "cell_type": "code",
   "execution_count": null,
   "id": "197e38b8",
   "metadata": {},
   "outputs": [],
   "source": [
    "#Comparison Operators "
   ]
  },
  {
   "cell_type": "code",
   "execution_count": 10,
   "id": "634ad052",
   "metadata": {},
   "outputs": [
    {
     "data": {
      "text/plain": [
       "(95, 85)"
      ]
     },
     "execution_count": 10,
     "metadata": {},
     "output_type": "execute_result"
    }
   ],
   "source": [
    "a,b"
   ]
  },
  {
   "cell_type": "code",
   "execution_count": 11,
   "id": "1a3cad7f",
   "metadata": {},
   "outputs": [
    {
     "data": {
      "text/plain": [
       "False"
      ]
     },
     "execution_count": 11,
     "metadata": {},
     "output_type": "execute_result"
    }
   ],
   "source": [
    "a==b"
   ]
  },
  {
   "cell_type": "code",
   "execution_count": 12,
   "id": "03d1266d",
   "metadata": {},
   "outputs": [
    {
     "data": {
      "text/plain": [
       "True"
      ]
     },
     "execution_count": 12,
     "metadata": {},
     "output_type": "execute_result"
    }
   ],
   "source": [
    "a!=b"
   ]
  },
  {
   "cell_type": "code",
   "execution_count": 13,
   "id": "b809ef60",
   "metadata": {},
   "outputs": [
    {
     "data": {
      "text/plain": [
       "False"
      ]
     },
     "execution_count": 13,
     "metadata": {},
     "output_type": "execute_result"
    }
   ],
   "source": [
    "a<b"
   ]
  },
  {
   "cell_type": "code",
   "execution_count": 14,
   "id": "649e23e2",
   "metadata": {},
   "outputs": [
    {
     "data": {
      "text/plain": [
       "True"
      ]
     },
     "execution_count": 14,
     "metadata": {},
     "output_type": "execute_result"
    }
   ],
   "source": [
    "a>b"
   ]
  },
  {
   "cell_type": "code",
   "execution_count": null,
   "id": "fd02223d",
   "metadata": {},
   "outputs": [],
   "source": [
    "#Logical operators "
   ]
  },
  {
   "cell_type": "code",
   "execution_count": 15,
   "id": "e725f726",
   "metadata": {},
   "outputs": [],
   "source": [
    "x=10\n",
    "y=25"
   ]
  },
  {
   "cell_type": "code",
   "execution_count": 16,
   "id": "7530c0b0",
   "metadata": {},
   "outputs": [
    {
     "data": {
      "text/plain": [
       "False"
      ]
     },
     "execution_count": 16,
     "metadata": {},
     "output_type": "execute_result"
    }
   ],
   "source": [
    "x>y and x>50"
   ]
  },
  {
   "cell_type": "code",
   "execution_count": 17,
   "id": "28fe76ec",
   "metadata": {},
   "outputs": [
    {
     "data": {
      "text/plain": [
       "False"
      ]
     },
     "execution_count": 17,
     "metadata": {},
     "output_type": "execute_result"
    }
   ],
   "source": [
    "x<y and x>50"
   ]
  },
  {
   "cell_type": "code",
   "execution_count": 18,
   "id": "afa39754",
   "metadata": {},
   "outputs": [
    {
     "data": {
      "text/plain": [
       "False"
      ]
     },
     "execution_count": 18,
     "metadata": {},
     "output_type": "execute_result"
    }
   ],
   "source": [
    "x>y or x>50"
   ]
  },
  {
   "cell_type": "code",
   "execution_count": null,
   "id": "d6b21233",
   "metadata": {},
   "outputs": [],
   "source": [
    "#Identity operators "
   ]
  },
  {
   "cell_type": "code",
   "execution_count": 19,
   "id": "bcea6dcf",
   "metadata": {},
   "outputs": [
    {
     "data": {
      "text/plain": [
       "(10, 25)"
      ]
     },
     "execution_count": 19,
     "metadata": {},
     "output_type": "execute_result"
    }
   ],
   "source": [
    "x,y"
   ]
  },
  {
   "cell_type": "code",
   "execution_count": 20,
   "id": "aa76bc8d",
   "metadata": {},
   "outputs": [
    {
     "data": {
      "text/plain": [
       "False"
      ]
     },
     "execution_count": 20,
     "metadata": {},
     "output_type": "execute_result"
    }
   ],
   "source": [
    "x is y"
   ]
  },
  {
   "cell_type": "code",
   "execution_count": 21,
   "id": "278fcb02",
   "metadata": {},
   "outputs": [
    {
     "data": {
      "text/plain": [
       "True"
      ]
     },
     "execution_count": 21,
     "metadata": {},
     "output_type": "execute_result"
    }
   ],
   "source": [
    "x is not y"
   ]
  },
  {
   "cell_type": "code",
   "execution_count": null,
   "id": "9e1fb8bb",
   "metadata": {},
   "outputs": [],
   "source": [
    "#Membership operators"
   ]
  },
  {
   "cell_type": "code",
   "execution_count": 22,
   "id": "8a098b51",
   "metadata": {},
   "outputs": [],
   "source": [
    "course='Data Science'"
   ]
  },
  {
   "cell_type": "code",
   "execution_count": 23,
   "id": "f670b80b",
   "metadata": {},
   "outputs": [
    {
     "data": {
      "text/plain": [
       "False"
      ]
     },
     "execution_count": 23,
     "metadata": {},
     "output_type": "execute_result"
    }
   ],
   "source": [
    "'d' in course"
   ]
  },
  {
   "cell_type": "code",
   "execution_count": 24,
   "id": "fa7ab299",
   "metadata": {},
   "outputs": [
    {
     "data": {
      "text/plain": [
       "True"
      ]
     },
     "execution_count": 24,
     "metadata": {},
     "output_type": "execute_result"
    }
   ],
   "source": [
    "' ' in course"
   ]
  },
  {
   "cell_type": "code",
   "execution_count": 25,
   "id": "513338c8",
   "metadata": {},
   "outputs": [],
   "source": [
    "pin_code =6473256227"
   ]
  },
  {
   "cell_type": "code",
   "execution_count": 26,
   "id": "563fc05d",
   "metadata": {},
   "outputs": [
    {
     "data": {
      "text/plain": [
       "6473256227"
      ]
     },
     "execution_count": 26,
     "metadata": {},
     "output_type": "execute_result"
    }
   ],
   "source": [
    "pin_code"
   ]
  },
  {
   "cell_type": "code",
   "execution_count": 27,
   "id": "73215d38",
   "metadata": {},
   "outputs": [
    {
     "data": {
      "text/plain": [
       "int"
      ]
     },
     "execution_count": 27,
     "metadata": {},
     "output_type": "execute_result"
    }
   ],
   "source": [
    "type(pin_code)"
   ]
  },
  {
   "cell_type": "code",
   "execution_count": null,
   "id": "6c73b297",
   "metadata": {},
   "outputs": [],
   "source": [
    "#Sring creation"
   ]
  },
  {
   "cell_type": "code",
   "execution_count": 28,
   "id": "8a307156",
   "metadata": {},
   "outputs": [],
   "source": [
    "s = 'We are learning python'\n",
    "s1= \"We are learning python\"\n",
    "s2= '''We are learning python'''"
   ]
  },
  {
   "cell_type": "code",
   "execution_count": 29,
   "id": "ff426255",
   "metadata": {},
   "outputs": [
    {
     "data": {
      "text/plain": [
       "True"
      ]
     },
     "execution_count": 29,
     "metadata": {},
     "output_type": "execute_result"
    }
   ],
   "source": [
    "s==s1"
   ]
  },
  {
   "cell_type": "code",
   "execution_count": 30,
   "id": "87bf0d81",
   "metadata": {},
   "outputs": [
    {
     "data": {
      "text/plain": [
       "True"
      ]
     },
     "execution_count": 30,
     "metadata": {},
     "output_type": "execute_result"
    }
   ],
   "source": [
    "s1==s2"
   ]
  },
  {
   "cell_type": "code",
   "execution_count": 31,
   "id": "d77d69f6",
   "metadata": {},
   "outputs": [],
   "source": [
    "s3= \"It's a laptop\""
   ]
  },
  {
   "cell_type": "code",
   "execution_count": 32,
   "id": "1d734a4f",
   "metadata": {},
   "outputs": [
    {
     "data": {
      "text/plain": [
       "str"
      ]
     },
     "execution_count": 32,
     "metadata": {},
     "output_type": "execute_result"
    }
   ],
   "source": [
    "type(s3)"
   ]
  },
  {
   "cell_type": "code",
   "execution_count": 33,
   "id": "7e2f6e18",
   "metadata": {},
   "outputs": [
    {
     "data": {
      "text/plain": [
       "float"
      ]
     },
     "execution_count": 33,
     "metadata": {},
     "output_type": "execute_result"
    }
   ],
   "source": [
    "temp=25.5\n",
    "type(temp)"
   ]
  },
  {
   "cell_type": "code",
   "execution_count": 34,
   "id": "bf57765b",
   "metadata": {},
   "outputs": [
    {
     "data": {
      "text/plain": [
       "bool"
      ]
     },
     "execution_count": 34,
     "metadata": {},
     "output_type": "execute_result"
    }
   ],
   "source": [
    "b= True\n",
    "type(b)"
   ]
  },
  {
   "cell_type": "code",
   "execution_count": null,
   "id": "ecf815e6",
   "metadata": {},
   "outputs": [],
   "source": [
    "#typecasting"
   ]
  },
  {
   "cell_type": "code",
   "execution_count": 35,
   "id": "9f9cf5d7",
   "metadata": {},
   "outputs": [
    {
     "data": {
      "text/plain": [
       "int"
      ]
     },
     "execution_count": 35,
     "metadata": {},
     "output_type": "execute_result"
    }
   ],
   "source": [
    "age=60\n",
    "type(age)"
   ]
  },
  {
   "cell_type": "code",
   "execution_count": 36,
   "id": "a5d18057",
   "metadata": {},
   "outputs": [
    {
     "data": {
      "text/plain": [
       "'60'"
      ]
     },
     "execution_count": 36,
     "metadata": {},
     "output_type": "execute_result"
    }
   ],
   "source": [
    "str(age)"
   ]
  },
  {
   "cell_type": "code",
   "execution_count": 37,
   "id": "bba58337",
   "metadata": {},
   "outputs": [
    {
     "data": {
      "text/plain": [
       "60"
      ]
     },
     "execution_count": 37,
     "metadata": {},
     "output_type": "execute_result"
    }
   ],
   "source": [
    "age"
   ]
  },
  {
   "cell_type": "code",
   "execution_count": 38,
   "id": "29535f80",
   "metadata": {},
   "outputs": [
    {
     "data": {
      "text/plain": [
       "str"
      ]
     },
     "execution_count": 38,
     "metadata": {},
     "output_type": "execute_result"
    }
   ],
   "source": [
    "age =str(age)\n",
    "type(age)"
   ]
  },
  {
   "cell_type": "code",
   "execution_count": 39,
   "id": "744973a8",
   "metadata": {},
   "outputs": [
    {
     "data": {
      "text/plain": [
       "10.0"
      ]
     },
     "execution_count": 39,
     "metadata": {},
     "output_type": "execute_result"
    }
   ],
   "source": [
    "num=10\n",
    "float(num)"
   ]
  },
  {
   "cell_type": "code",
   "execution_count": 40,
   "id": "6abc082d",
   "metadata": {},
   "outputs": [
    {
     "data": {
      "text/plain": [
       "str"
      ]
     },
     "execution_count": 40,
     "metadata": {},
     "output_type": "execute_result"
    }
   ],
   "source": [
    "string='abc'\n",
    "type(string)"
   ]
  },
  {
   "cell_type": "code",
   "execution_count": 41,
   "id": "ef6ede73",
   "metadata": {},
   "outputs": [
    {
     "data": {
      "text/plain": [
       "True"
      ]
     },
     "execution_count": 41,
     "metadata": {},
     "output_type": "execute_result"
    }
   ],
   "source": [
    "number=10\n",
    "bool(number)"
   ]
  },
  {
   "cell_type": "markdown",
   "id": "04894369",
   "metadata": {},
   "source": [
    "#Creating a string "
   ]
  },
  {
   "cell_type": "code",
   "execution_count": 45,
   "id": "5f8d1f6f",
   "metadata": {},
   "outputs": [],
   "source": [
    "s='we are learning python'"
   ]
  },
  {
   "cell_type": "code",
   "execution_count": 46,
   "id": "81fef3cf",
   "metadata": {},
   "outputs": [],
   "source": [
    "#capitalize function "
   ]
  },
  {
   "cell_type": "code",
   "execution_count": 47,
   "id": "18309c0b",
   "metadata": {},
   "outputs": [
    {
     "data": {
      "text/plain": [
       "'We are learning python'"
      ]
     },
     "execution_count": 47,
     "metadata": {},
     "output_type": "execute_result"
    }
   ],
   "source": [
    "s.capitalize()"
   ]
  },
  {
   "cell_type": "code",
   "execution_count": 49,
   "id": "e5cf3b05",
   "metadata": {},
   "outputs": [
    {
     "data": {
      "text/plain": [
       "True"
      ]
     },
     "execution_count": 49,
     "metadata": {},
     "output_type": "execute_result"
    }
   ],
   "source": [
    "s.startswith('w')"
   ]
  },
  {
   "cell_type": "code",
   "execution_count": 50,
   "id": "a7e42b5e",
   "metadata": {},
   "outputs": [
    {
     "data": {
      "text/plain": [
       "False"
      ]
     },
     "execution_count": 50,
     "metadata": {},
     "output_type": "execute_result"
    }
   ],
   "source": [
    "s.startswith('W')"
   ]
  },
  {
   "cell_type": "code",
   "execution_count": 52,
   "id": "a06b0ac2",
   "metadata": {},
   "outputs": [
    {
     "data": {
      "text/plain": [
       "7"
      ]
     },
     "execution_count": 52,
     "metadata": {},
     "output_type": "execute_result"
    }
   ],
   "source": [
    "s.find('learning')"
   ]
  },
  {
   "cell_type": "code",
   "execution_count": 53,
   "id": "5c0848fa",
   "metadata": {},
   "outputs": [
    {
     "data": {
      "text/plain": [
       "0"
      ]
     },
     "execution_count": 53,
     "metadata": {},
     "output_type": "execute_result"
    }
   ],
   "source": [
    "s.find('we')"
   ]
  },
  {
   "cell_type": "code",
   "execution_count": 54,
   "id": "7ca3452f",
   "metadata": {},
   "outputs": [],
   "source": [
    "#replace"
   ]
  },
  {
   "cell_type": "code",
   "execution_count": 63,
   "id": "6c148246",
   "metadata": {},
   "outputs": [
    {
     "data": {
      "text/plain": [
       "'They are learning python'"
      ]
     },
     "execution_count": 63,
     "metadata": {},
     "output_type": "execute_result"
    }
   ],
   "source": [
    "s.replace('we','They')"
   ]
  },
  {
   "cell_type": "code",
   "execution_count": 56,
   "id": "f20aa4fd",
   "metadata": {},
   "outputs": [
    {
     "data": {
      "text/plain": [
       "'w_e_ _a_r_e_ _l_e_a_r_n_i_n_g_ _p_y_t_h_o_n'"
      ]
     },
     "execution_count": 56,
     "metadata": {},
     "output_type": "execute_result"
    }
   ],
   "source": [
    "'_'.join(s)"
   ]
  },
  {
   "cell_type": "code",
   "execution_count": 57,
   "id": "3edc0e04",
   "metadata": {},
   "outputs": [
    {
     "data": {
      "text/plain": [
       "'w|e| |a|r|e| |l|e|a|r|n|i|n|g| |p|y|t|h|o|n'"
      ]
     },
     "execution_count": 57,
     "metadata": {},
     "output_type": "execute_result"
    }
   ],
   "source": [
    "'|'.join(s)"
   ]
  },
  {
   "cell_type": "code",
   "execution_count": 58,
   "id": "ed299ec9",
   "metadata": {},
   "outputs": [
    {
     "data": {
      "text/plain": [
       "['we', 'are', 'learning', 'python']"
      ]
     },
     "execution_count": 58,
     "metadata": {},
     "output_type": "execute_result"
    }
   ],
   "source": [
    "s.split(' ')"
   ]
  },
  {
   "cell_type": "code",
   "execution_count": 59,
   "id": "bdf418e9",
   "metadata": {},
   "outputs": [],
   "source": [
    "#Basic function"
   ]
  },
  {
   "cell_type": "code",
   "execution_count": 60,
   "id": "f349cf0a",
   "metadata": {},
   "outputs": [
    {
     "data": {
      "text/plain": [
       "'we are learning python'"
      ]
     },
     "execution_count": 60,
     "metadata": {},
     "output_type": "execute_result"
    }
   ],
   "source": [
    "s.lower()"
   ]
  },
  {
   "cell_type": "code",
   "execution_count": 61,
   "id": "dd1b0c32",
   "metadata": {},
   "outputs": [
    {
     "data": {
      "text/plain": [
       "'WE ARE LEARNING PYTHON'"
      ]
     },
     "execution_count": 61,
     "metadata": {},
     "output_type": "execute_result"
    }
   ],
   "source": [
    "s.upper()"
   ]
  },
  {
   "cell_type": "code",
   "execution_count": null,
   "id": "1facd0dc",
   "metadata": {},
   "outputs": [],
   "source": []
  },
  {
   "cell_type": "code",
   "execution_count": null,
   "id": "0e2aa613",
   "metadata": {},
   "outputs": [],
   "source": []
  }
 ],
 "metadata": {
  "kernelspec": {
   "display_name": "Python 3 (ipykernel)",
   "language": "python",
   "name": "python3"
  },
  "language_info": {
   "codemirror_mode": {
    "name": "ipython",
    "version": 3
   },
   "file_extension": ".py",
   "mimetype": "text/x-python",
   "name": "python",
   "nbconvert_exporter": "python",
   "pygments_lexer": "ipython3",
   "version": "3.9.12"
  }
 },
 "nbformat": 4,
 "nbformat_minor": 5
}
